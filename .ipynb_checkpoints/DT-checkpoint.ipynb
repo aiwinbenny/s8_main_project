{
 "cells": [
  {
   "cell_type": "code",
   "execution_count": 71,
   "metadata": {},
   "outputs": [
    {
     "data": {
      "text/plain": [
       "0.6"
      ]
     },
     "execution_count": 71,
     "metadata": {},
     "output_type": "execute_result"
    }
   ],
   "source": [
    "import pandas as ps\n",
    "from sklearn.tree import DecisionTreeClassifier\n",
    "from sklearn.model_selection import train_test_split\n",
    "from sklearn.metrics import accuracy_score\n",
    "rail_data = ps.read_csv('data.csv')\n",
    "dummie_time = ps.get_dummies(rail_data.time)\n",
    "dummie_day = ps.get_dummies(rail_data.day)\n",
    "dummie_gender = ps.get_dummies(rail_data.gender)\n",
    "merged = ps.concat([rail_data,dummie_time,dummie_day,dummie_gender],axis = 1)\n",
    "rail_data = merged.drop(['time','day','gender','PM','D7','G-M'],axis = 1)\n",
    "\n",
    "x=rail_data.drop(columns=['accident_type'])\n",
    "y=rail_data['accident_type']\n",
    "x_train,x_test,y_train,y_test = train_test_split(x,y,test_size = 0.05)\n",
    " \n",
    "\n",
    "model = DecisionTreeClassifier()\n",
    "model.fit(x_train,y_train)\n",
    "\n",
    "\n",
    "predictions = model.predict(x_test)\n",
    "\n",
    "accuracy_score(y_test,predictions)\n",
    "\n",
    "\n"
   ]
  },
  {
   "cell_type": "code",
   "execution_count": null,
   "metadata": {},
   "outputs": [],
   "source": []
  },
  {
   "cell_type": "code",
   "execution_count": null,
   "metadata": {},
   "outputs": [],
   "source": []
  },
  {
   "cell_type": "code",
   "execution_count": null,
   "metadata": {},
   "outputs": [],
   "source": []
  }
 ],
 "metadata": {
  "kernelspec": {
   "display_name": "Python 3",
   "language": "python",
   "name": "python3"
  },
  "language_info": {
   "codemirror_mode": {
    "name": "ipython",
    "version": 3
   },
   "file_extension": ".py",
   "mimetype": "text/x-python",
   "name": "python",
   "nbconvert_exporter": "python",
   "pygments_lexer": "ipython3",
   "version": "3.8.5"
  }
 },
 "nbformat": 4,
 "nbformat_minor": 4
}
